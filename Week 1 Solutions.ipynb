{
 "cells": [
  {
   "cell_type": "markdown",
   "metadata": {},
   "source": [
    "# These are the solutions to the first excercise questions for Artificial Intelligence MSc at City, UoL 2021/22. 04-10-2021"
   ]
  },
  {
   "cell_type": "markdown",
   "metadata": {},
   "source": [
    "# Question 1 a"
   ]
  },
  {
   "cell_type": "code",
   "execution_count": null,
   "metadata": {},
   "outputs": [],
   "source": [
    "x = range(1,6)\n",
    "y = range(1,6)\n",
    "\n",
    "for i in x:\n",
    "    for j in y:\n",
    "        product = i*j\n",
    "        string = str(product)\n",
    "        print(string.ljust(2), end = '    ', sep = '') # Use ljust to make the table neat. Only works on strings\n",
    "    print(\" \")\n",
    "    "
   ]
  },
  {
   "cell_type": "markdown",
   "metadata": {},
   "source": [
    "# Question 1 b"
   ]
  },
  {
   "cell_type": "code",
   "execution_count": null,
   "metadata": {},
   "outputs": [],
   "source": [
    "x = range(1,6)\n",
    "y = range(1,6)\n",
    "\n",
    "for i in x:\n",
    "    for j in y:\n",
    "        product = i*j\n",
    "        if product%2==0:   # if product is even, replace with 0\n",
    "            product = 0\n",
    "        string = str(product)\n",
    "        print(string.ljust(2), end = '    ', sep = '') # Use ljust to make the table neat. Only works on strings\n",
    "    print(\" \")\n",
    "    "
   ]
  },
  {
   "cell_type": "markdown",
   "metadata": {},
   "source": [
    "# Question 2"
   ]
  },
  {
   "cell_type": "code",
   "execution_count": null,
   "metadata": {},
   "outputs": [],
   "source": [
    "import os\n",
    "import pandas as pd\n",
    "\n",
    "## Load sataset and get rid of missing values and print the data frame\n",
    "path = \"/home/aziz/Desktop/City AI MSc Files/Intro to AI INM701/Week 1\"\n",
    "filename_read = os.path.join(path, \"iris.csv\")\n",
    "df = pd.read_csv(filename_read, na_values=['NA', '?'])\n",
    "print(df)"
   ]
  },
  {
   "cell_type": "markdown",
   "metadata": {},
   "source": [
    "### Print the rows in the dataset where petal_w < 1.0"
   ]
  },
  {
   "cell_type": "code",
   "execution_count": null,
   "metadata": {},
   "outputs": [],
   "source": [
    "df_wo_petal = df[df.petal_w <1.0]\n",
    "print(df_wo_petal)"
   ]
  },
  {
   "cell_type": "markdown",
   "metadata": {},
   "source": [
    "## Sort the dataset by sepal_l and print this"
   ]
  },
  {
   "cell_type": "code",
   "execution_count": null,
   "metadata": {},
   "outputs": [],
   "source": [
    "df = df.sort_values(by='sepal_l', ascending=True)\n",
    "print(df)"
   ]
  },
  {
   "cell_type": "markdown",
   "metadata": {},
   "source": [
    "## Save the sorted dataset to a new file"
   ]
  },
  {
   "cell_type": "code",
   "execution_count": null,
   "metadata": {},
   "outputs": [],
   "source": [
    "df.to_csv('/home/aziz/Desktop/City AI MSc Files/Intro to AI INM701/Week 1/Iris_Sepal_sorted.csv')\n",
    "print(\"Export Succesful\")"
   ]
  },
  {
   "cell_type": "markdown",
   "metadata": {},
   "source": [
    "## Calculate the variance of sepal_l"
   ]
  },
  {
   "cell_type": "code",
   "execution_count": null,
   "metadata": {},
   "outputs": [],
   "source": [
    "print(\"Variance of sepal_l is \", df.loc[:,\"sepal_l\"].var())"
   ]
  }
 ],
 "metadata": {
  "kernelspec": {
   "display_name": "Python 3",
   "language": "python",
   "name": "python3"
  },
  "language_info": {
   "codemirror_mode": {
    "name": "ipython",
    "version": 3
   },
   "file_extension": ".py",
   "mimetype": "text/x-python",
   "name": "python",
   "nbconvert_exporter": "python",
   "pygments_lexer": "ipython3",
   "version": "3.8.5"
  }
 },
 "nbformat": 4,
 "nbformat_minor": 4
}
